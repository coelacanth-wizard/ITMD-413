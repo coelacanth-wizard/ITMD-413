{
 "cells": [
  {
   "cell_type": "markdown",
   "metadata": {},
   "source": [
    "## Question 1"
   ]
  },
  {
   "cell_type": "code",
   "execution_count": 53,
   "metadata": {},
   "outputs": [
    {
     "name": "stdout",
     "output_type": "stream",
     "text": [
      "\n",
      "dn:  unripebonedice\n",
      "cn:  Gardens\n",
      "sn:  Garcea\n",
      "telephone number:  (630) 917 7230\n",
      "\n",
      "dn:  possumcore\n",
      "cn:  Adrian\n",
      "sn:  Jade\n",
      "telephone number:  (224) 337 3255\n",
      "\n",
      "dn:  moonstruckmidnight\n",
      "cn:  Elijah\n",
      "sn:  Ashdown\n",
      "telephone number:  (224) 527 8689\n",
      "\n",
      "dn:  novak67\n",
      "cn:  Ryan\n",
      "sn:  Bachrach\n",
      "telephone number:  (224) 325 9657\n",
      "\n",
      "dn:  skedaddlesaway\n",
      "cn:  Edward\n",
      "sn:  Martinez\n",
      "telephone number:  (224) 409 3479\n"
     ]
    }
   ],
   "source": [
    "'''Write a program that will convert 'Username:Firstname:Lastname:Telephone' lines to a Lightweight Directory Access Protocol (LDAP)\n",
    "record format as shown below:\n",
    "    dn: uid=Username, dc=example, dc=com\n",
    "    cn: Firstname Lastname\n",
    "    sn: Lastname\n",
    "    telephoneNumber: Telephone number'''\n",
    "\n",
    "def formatFile():\n",
    "    for i in dire: \n",
    "        print('\\ndn: ',dire.get(i)[0]) #kind of scuffed but it works, access key values by index\n",
    "        print('cn: ',str(dire.get(i)[1]))\n",
    "        print('sn: ',str(dire.get(i)[2]))\n",
    "        print('telephone number: ',str(dire.get(i)[3]))\n",
    "\n",
    "def formatNum(num):\n",
    "    str = '('+ num[0:3] + ') '\n",
    "    str += num[3:6] + ' ' + num[6:]\n",
    "    return str\n",
    "\n",
    "file = open(\"week6_directory.md\")\n",
    "lines = file.readlines()\n",
    "dire = {}\n",
    "for line in lines: \n",
    "        # Split each line then store as year:profit pairs. Make sure the profit is being read as an int\n",
    "        user, first, last, phone = line.strip().split(':') \n",
    "        phone = formatNum(phone)\n",
    "        dire[user] = [user, first, last, phone]\n",
    "\n",
    "formatFile()\n"
   ]
  },
  {
   "cell_type": "markdown",
   "metadata": {},
   "source": [
    "## Question 2"
   ]
  },
  {
   "cell_type": "code",
   "execution_count": 50,
   "metadata": {},
   "outputs": [
    {
     "name": "stdout",
     "output_type": "stream",
     "text": [
      "(999) 999 9999 is a valid number\n"
     ]
    }
   ],
   "source": [
    "\"\"\"Question 2\n",
    "In some web forms, users must enter a phone number, and some of these aggravate users by\n",
    "accepting only a specific format. You have been hired to write a program that reads U.S. phone\n",
    "numbers with the three-digit area and seven-digit local codes accepted as ten digits, or separated\n",
    "into blocks using hyphens or spaces, and with the area code optionally enclosed in parentheses.\n",
    "For example, all of these are valid: 555-123-1234, (555) 1234567, (555) 123 1234, and\n",
    "5551234567. Read the phone numbers from user input and for each one echo the number in the\n",
    "form “(999) 999 9999” or report an error for any that are invalid, or that don't have exactly ten\n",
    "digits\"\"\"\n",
    "\n",
    "import string\n",
    "\n",
    "def format(num):\n",
    "    str = '('+ num[0:3] + ') '\n",
    "    str += num[3:6] + ' ' + num[6:]\n",
    "    return str\n",
    "\n",
    "number = input('Please enter a phone number: ')\n",
    "number = number.translate(str.maketrans('', '', string.punctuation)).replace(\" \",\"\") #strip and reformat no matter what\n",
    "if len(number) == 10:\n",
    "    number = format(number)\n",
    "    print(number,\"is a valid number\")\n",
    "else: \n",
    "    print(\"Invalid Number!\")\n"
   ]
  }
 ],
 "metadata": {
  "kernelspec": {
   "display_name": "base",
   "language": "python",
   "name": "python3"
  },
  "language_info": {
   "codemirror_mode": {
    "name": "ipython",
    "version": 3
   },
   "file_extension": ".py",
   "mimetype": "text/x-python",
   "name": "python",
   "nbconvert_exporter": "python",
   "pygments_lexer": "ipython3",
   "version": "3.11.5"
  }
 },
 "nbformat": 4,
 "nbformat_minor": 2
}
