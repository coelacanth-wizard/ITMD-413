{
 "cells": [
  {
   "cell_type": "markdown",
   "metadata": {},
   "source": [
    "# Question 1\n",
    "(INDEXING AND SLICING ARRAYS) Create an array containing the values 1–15, reshape it\n",
    "into a 3-by-5 array, then use indexing and slicing techniques to perform each of the following\n",
    "operations:\n",
    "- a) Select row 2.\n",
    "- b) Select column 4.\n",
    "- c) Select rows 0 and 1.\n",
    "- d) Select columns 2–4.\n",
    "- e) Select the element that is in row 1 and column 4.\n",
    "- f) Select all elements from rows 1 and 2 that are in columns 0, 2 and 4"
   ]
  },
  {
   "cell_type": "code",
   "execution_count": 12,
   "metadata": {},
   "outputs": [
    {
     "name": "stdout",
     "output_type": "stream",
     "text": [
      "This is the Array:\n",
      " [[ 1  2  3  4  5]\n",
      " [ 6  7  8  9 10]\n",
      " [11 12 13 14 15]]\n",
      "\n",
      "Row two:  [ 6  7  8  9 10]\n",
      "\n",
      "Column four:  [ 4  9 14]\n",
      "\n",
      "Row zero and one: \n",
      " [[ 1  2  3  4  5]\n",
      " [ 6  7  8  9 10]]\n",
      "\n",
      "Column two, three, and four: \n",
      " [[ 3  4  5]\n",
      " [ 8  9 10]\n",
      " [13 14 15]]\n",
      "\n",
      "Element (1,4):  10\n",
      "\n",
      "Elements from rows 1 and 2 that are in columns 0, 2 and 4\n",
      " [[ 6  8 10]\n",
      " [11 13 15]]\n"
     ]
    }
   ],
   "source": [
    "import numpy as np\n",
    "\n",
    "arr = []\n",
    "arr = np.arange(1,16,1)\n",
    "arr = np.reshape(arr,(3,5))\n",
    "\n",
    "print(\"This is the Array:\\n\", arr)\n",
    "print(\"\\nRow two: \", arr[1])\n",
    "print(\"\\nColumn four: \", arr[:,3])\n",
    "print(\"\\nRow zero and one: \\n\", arr[:2])\n",
    "print(\"\\nColumn two, three, and four: \\n\", arr[:,2:5])\n",
    "print(\"\\nElement (1,4): \", arr[1][4])\n",
    "print(\"\\nElements from rows 1 and 2 that are in columns 0, 2 and 4\\n\", arr[1:3,(0,2,4)]) #I didn't actually expect that to work, cool!!\n",
    "\n"
   ]
  },
  {
   "cell_type": "markdown",
   "metadata": {},
   "source": [
    "# Question 2\n",
    "For this question, please use the NumPy Python library. Make sure you have installed NumPy,\n",
    "Pandas, SciPy, and Matplotlib Python libraries. Use command pip (for Windows) or pip3 (for\n",
    "MacOS).\n",
    "Write a program to load a given dataset called Student_Grades.csv into a NumPy array. Then\n",
    "determine the following items:\n",
    "- a) Display all data on screen.\n",
    "- b) Determine how many students were in the dataset?\n",
    "- c) Display the number of rows and columns of your numpy array.\n",
    "- d) Display the array data types.\n",
    "- e) Display the following Descriptive Statistics of students’ overall percentage scores:\n",
    "> - a. Min score\n",
    "> - b. Max score\n",
    "> - c. Mean value\n",
    "> - d. Median\n",
    "> - e. Mode\n",
    "> - f. Standard Deviation\n",
    "> - g. 25% and 75% percentile\n",
    "- f) Determine how many students achieved an A grade, B, C, D and F grades.\n",
    "- g) Create a pie chart based on the above grade achievements (option f)"
   ]
  },
  {
   "cell_type": "code",
   "execution_count": 8,
   "metadata": {},
   "outputs": [
    {
     "name": "stdout",
     "output_type": "stream",
     "text": [
      "Welcome to Student Grades! Here is the current file:\n",
      "[[  15.        50.        50.      ...  207.      1442.        94.1868 ]\n",
      " [  15.        50.        50.      ...  197.      1322.        86.34879]\n",
      " [  15.        50.        50.      ...  210.      1510.        98.62834]\n",
      " ...\n",
      " [  15.        50.        50.      ...  200.      1374.        89.74526]\n",
      " [  15.        50.        50.      ...  195.      1287.        84.0627 ]\n",
      " [  15.        50.        50.      ...  210.      1490.        97.32201]]\n",
      "\n",
      "There are 33 students in this file\n",
      "\n",
      "The rows and columns of this file are: (33, 32)\n",
      "\n",
      "The datatypes of this array are:  float64\n",
      "\n",
      "Lowest Score: \t\t 29.65382\n",
      "Highest Score: \t\t 99.86936\n",
      "Mean score value: \t 87.66996787878789\n",
      "Median score value: \t 92.88047\n",
      "Mode score value: \t ModeResult(mode=94.1868, count=2)\n",
      "Standard Deviation: \t 15.553686425410683\n",
      "25% percentile\t\t 87.1979\n",
      "75% percentile\t\t 96.73416\n",
      "\n",
      "The letter grade distribution in the class is as follows: {'A': 21, 'B': 8, 'C': 1, 'D': 1, 'F': 2}\n"
     ]
    },
    {
     "data": {
      "image/png": "[encoded data removed]",
      "text/plain": [
       "<Figure size 640x480 with 1 Axes>"
      ]
     },
     "metadata": {},
     "output_type": "display_data"
    }
   ],
   "source": [
    "import numpy as np\n",
    "import pandas as pn\n",
    "import matplotlib.pyplot as plt\n",
    "from scipy import stats\n",
    "import os\n",
    "\n",
    "print('Welcome to Student Grades! Here is the current file:')\n",
    "# a) Display all data on screen.\n",
    "#Also, make sure to skip first row since that's just metadata (am i using that word right....)\n",
    "file = np.loadtxt('Student_Grades.csv', delimiter=',', skiprows=1)\n",
    "print(file)\n",
    "\n",
    "# - b) Determine how many students were in the dataset? == num of rows \n",
    "rows, columns = np.shape(file)\n",
    "print('\\nThere are', rows, 'students in this file')\n",
    "\n",
    "# - c) Display the number of rows and columns of your numpy array.\n",
    "print('\\nThe rows and columns of this file are:', (rows, columns))\n",
    "\n",
    "# - d) Display the array data types.\n",
    "print('\\nThe datatypes of this array are: ', file.dtype) #it's float by default but whtv\n",
    "\n",
    "# - e) Display the following Descriptive Statistics of students’ overall percentage scores:\n",
    "    # > - a. Min score\n",
    "    # > - b. Max score\n",
    "    # > - c. Mean value\n",
    "    # > - d. Median\n",
    "    # > - e. Mode\n",
    "    # > - f. Standard Deviation\n",
    "    # > - g. 25% and 75% percentile\n",
    "scores = file[:,-1]\n",
    "scores.sort()\n",
    "print('\\nLowest Score: \\t\\t', scores[0])\n",
    "print('Highest Score: \\t\\t', scores[-1])\n",
    "print('Mean score value: \\t', np.mean(scores))\n",
    "print('Median score value: \\t', np.median(scores))\n",
    "print('Mode score value: \\t', stats.mode(scores))\n",
    "print('Standard Deviation: \\t', np.std(scores))\n",
    "print('25% percentile\\t\\t', np.percentile(scores, 25))\n",
    "print('75% percentile\\t\\t', np.percentile(scores, 75))\n",
    "# - f) Determine how many students achieved an A grade, B, C, D and F grades.\n",
    "\n",
    "letters = {'A':0, 'B':0, 'C':0, 'D':0, 'F':0}\n",
    "for i in scores:\n",
    "    if i >= 90: \n",
    "        letters['A'] += 1\n",
    "    elif i >= 80:\n",
    "        letters['B']  += 1\n",
    "    elif i >= 70:\n",
    "        letters['C']  += 1\n",
    "    elif i >= 60:\n",
    "        letters['D']  += 1\n",
    "    else:\n",
    "        letters['F']  += 1\n",
    "print('\\nThe letter grade distribution in the class is as follows:' ,letters)\n",
    "\n",
    "# - g) Create a pie chart based on the above grade achievements (option f)\n",
    "plt.title('Letter Grade Distribution')\n",
    "plt.pie(letters.values(), labels=letters.keys(),autopct='%1.1f%%')\n",
    "plt.show()"
   ]
  }
 ],
 "metadata": {
  "kernelspec": {
   "display_name": "base",
   "language": "python",
   "name": "python3"
  },
  "language_info": {
   "codemirror_mode": {
    "name": "ipython",
    "version": 3
   },
   "file_extension": ".py",
   "mimetype": "text/x-python",
   "name": "python",
   "nbconvert_exporter": "python",
   "pygments_lexer": "ipython3",
   "version": "3.11.3"
  }
 },
 "nbformat": 4,
 "nbformat_minor": 2
}
