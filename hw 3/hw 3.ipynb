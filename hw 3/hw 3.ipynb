{
 "cells": [
  {
   "cell_type": "markdown",
   "metadata": {},
   "source": [
    "# Question 1"
   ]
  },
  {
   "cell_type": "code",
   "execution_count": 1,
   "metadata": {},
   "outputs": [
    {
     "name": "stdout",
     "output_type": "stream",
     "text": [
      "Welcome to the price calculator! \n",
      "Enter the prices of your items below, stop adding by entering \"-1\"\n",
      "\n",
      "Calculating...\n",
      "---------------\n",
      "Price list: \n",
      "12\n",
      "23\n",
      "43\n",
      "12\n",
      "Subtotal: $ 90.00\n",
      "Tax: $ 6.30\n",
      "Total Price: $ 96.30\n",
      "---------------\n",
      "Thank you!\n"
     ]
    }
   ],
   "source": [
    "from RadDegConverter import *\n",
    "sellingItems()"
   ]
  },
  {
   "cell_type": "markdown",
   "metadata": {},
   "source": [
    "# Question 2"
   ]
  },
  {
   "cell_type": "code",
   "execution_count": 1,
   "metadata": {},
   "outputs": [
    {
     "name": "stdout",
     "output_type": "stream",
     "text": [
      "Welcome to the matrix multiplier!\n",
      "Enter the values for your first matrix: \n",
      "Row  1 complete.\n",
      "Row  2 complete.\n",
      "Row  3 complete.\n",
      "Matrix complete.\n",
      "Enter the values for your second matrix: \n",
      "Row  1 complete.\n",
      "Row  2 complete.\n",
      "Row  3 complete.\n",
      "Matrix complete.\n",
      "Multiplication Results: \n",
      "[1.0, 2.0, 3.0] \t\t [0.0, 2.0, 4.0] \t\t [5.300000000000001, 23.9, 24.0]\n",
      "[4.0, 5.0, 6.0] \t*\t [1.0, 4.5, 2.2] \t=\t [11.600000000000001, 56.3, 58.2]\n",
      "[7.0, 8.0, 9.0] \t\t [1.1, 4.3, 5.2] \t [17.9, 88.69999999999999, 92.4]\n",
      "Thank you!\n"
     ]
    }
   ],
   "source": [
    "from RadDegConverter import *\n",
    "\n",
    "print('Welcome to the matrix multiplier!')\n",
    "print('Enter the values for your first matrix: ')\n",
    "#a = [[1,2,3],[4,5,6],[7,8,9]] \n",
    "a = makeMatrix()\n",
    "\n",
    "print('Enter the values for your second matrix: ')\n",
    "#b = [[0,2,4],[1,4.5,2.2],[1.1,4.3,5.2]]\n",
    "b = makeMatrix()\n",
    "\n",
    "#print(a)\n",
    "#print(b)\n",
    "\n",
    "c = multiplyMatrix(a,b)\n",
    "displayMat(a,b,c)\n",
    "print('Thank you!')"
   ]
  }
 ],
 "metadata": {
  "kernelspec": {
   "display_name": "base",
   "language": "python",
   "name": "python3"
  },
  "language_info": {
   "codemirror_mode": {
    "name": "ipython",
    "version": 3
   },
   "file_extension": ".py",
   "mimetype": "text/x-python",
   "name": "python",
   "nbconvert_exporter": "python",
   "pygments_lexer": "ipython3",
   "version": "3.11.5"
  }
 },
 "nbformat": 4,
 "nbformat_minor": 2
}
