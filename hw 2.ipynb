{
 "cells": [
  {
   "cell_type": "markdown",
   "metadata": {},
   "source": [
    "# Question 1\n",
    "Create two functions that convert from radians to degrees (r2d(x)) and from degrees to\n",
    "radians (d2r(x)) respectively. "
   ]
  },
  {
   "cell_type": "code",
   "execution_count": 2,
   "metadata": {},
   "outputs": [
    {
     "name": "stdout",
     "output_type": "stream",
     "text": [
      "Welcome to the Radian/Degree unit converter!\n",
      "Your Rad to Deg convesion is: 12  =  687.5493541569879\n",
      "\n",
      "Goodbye!\n"
     ]
    }
   ],
   "source": [
    "#This program takes in a number and converts it to radians or degrees depending on user input \n",
    "#Author: Gabi Bartolo\n",
    "import math\n",
    "\n",
    "# deg = r * (180/pi) \n",
    "def radToDeg(r):\n",
    "    deg = r * (180/math.pi)\n",
    "    return deg\n",
    "\n",
    "# rad = d * (pi/180)\n",
    "def degToRad(d):\n",
    "    rad = d * (math.pi/180)\n",
    "    return rad\n",
    "\n",
    "def converter():\n",
    "    print(\"Welcome to the Radian/Degree unit converter!\")\n",
    "    run = True\n",
    "    while run: \n",
    "        x = input(\"\\nAre you converting to 'Rad' or 'Deg'?\\n\").lower()\n",
    "        y = eval(input(\"Great! What number are you converting?\\n\"))\n",
    "        if x == 'deg':\n",
    "            print('Your Rad to Deg convesion is:',y,' = ', radToDeg(y))\n",
    "        elif x == 'rad':\n",
    "            print('Your Deg to Rad convesion is:',y,' = ', degToRad(y))\n",
    "        else:\n",
    "            print('Something went wrong, try again!')    \n",
    "\n",
    "        r = input(\"\\nRun converter again? <y/n>\").lower()\n",
    "        if r == \"n\":\n",
    "            print('\\nGoodbye!')\n",
    "            run = False\n",
    "\n",
    "converter()"
   ]
  },
  {
   "cell_type": "markdown",
   "metadata": {},
   "source": [
    "# Question 2\n",
    "Given a complete program below, rewrite the program using functions. Create at least two\n",
    "functions and save your functions."
   ]
  },
  {
   "cell_type": "code",
   "execution_count": 3,
   "metadata": {},
   "outputs": [
    {
     "name": "stdout",
     "output_type": "stream",
     "text": [
      "Retail price: $ 80.00\n",
      "Retail price: $ 17.50\n",
      "Retail price: $ 7.50\n"
     ]
    }
   ],
   "source": [
    "# This program calculates retail prices.\n",
    "# rewrite with at least two functions\n",
    "\n",
    "mark_up = 2.5 # The markup percentage\n",
    " # Variable to control the loop.\n",
    "\n",
    "def retailPrice(w):\n",
    "     retail = w * mark_up\n",
    "     return retail\n",
    "\n",
    "def whole2Retail():\n",
    "    wholesale = float(input(\"\\nEnter the item's wholesale cost: \"))\n",
    "    # Validate the wholesale cost.\n",
    "    while wholesale < 0:\n",
    "        print('ERROR: the cost cannot be negative.')\n",
    "        wholesale = float(input('Enter the correct wholesale cost:'))\n",
    "    # Calculate and display the retail price.\n",
    "    print('Retail price: $', format(retailPrice(wholesale), ',.2f'))\n",
    "\n",
    "def retailCalculator():\n",
    "    another = 'y'\n",
    "    # Process one or more items.\n",
    "    while another == 'y' or another == 'Y':\n",
    "        # Get the item's wholesale cost.\n",
    "        whole2Retail()\n",
    "        # Do this again?\n",
    "        another = input('Do you have another item? (Enter y for yes): ')\n",
    "        \n",
    "retailCalculator()"
   ]
  }
 ],
 "metadata": {
  "kernelspec": {
   "display_name": "Python 3",
   "language": "python",
   "name": "python3"
  },
  "language_info": {
   "codemirror_mode": {
    "name": "ipython",
    "version": 3
   },
   "file_extension": ".py",
   "mimetype": "text/x-python",
   "name": "python",
   "nbconvert_exporter": "python",
   "pygments_lexer": "ipython3",
   "version": "3.11.3"
  }
 },
 "nbformat": 4,
 "nbformat_minor": 2
}
